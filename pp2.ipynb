{
  "nbformat": 4,
  "nbformat_minor": 0,
  "metadata": {
    "colab": {
      "provenance": []
    },
    "kernelspec": {
      "name": "python3",
      "display_name": "Python 3"
    },
    "language_info": {
      "name": "python"
    }
  },
  "cells": [
    {
      "cell_type": "markdown",
      "source": [
        "## PP2 - John's Shipping Company"
      ],
      "metadata": {
        "id": "JocRwHOro6yN"
      }
    },
    {
      "cell_type": "code",
      "execution_count": 1,
      "metadata": {
        "colab": {
          "base_uri": "https://localhost:8080/"
        },
        "id": "Uq-fWOiCXhR4",
        "outputId": "68fb9a54-9694-484c-f618-07e5b479c918"
      },
      "outputs": [
        {
          "output_type": "stream",
          "name": "stdout",
          "text": [
            "Collecting gurobipy\n",
            "  Downloading gurobipy-10.0.2-cp310-cp310-manylinux2014_x86_64.whl (12.7 MB)\n",
            "\u001b[2K     \u001b[90m━━━━━━━━━━━━━━━━━━━━━━━━━━━━━━━━━━━━━━━━\u001b[0m \u001b[32m12.7/12.7 MB\u001b[0m \u001b[31m63.9 MB/s\u001b[0m eta \u001b[36m0:00:00\u001b[0m\n",
            "\u001b[?25hInstalling collected packages: gurobipy\n",
            "Successfully installed gurobipy-10.0.2\n"
          ]
        }
      ],
      "source": [
        "!pip install gurobipy"
      ]
    },
    {
      "cell_type": "code",
      "source": [
        "from gurobipy import *"
      ],
      "metadata": {
        "id": "cBPp62BKGPrJ"
      },
      "execution_count": 2,
      "outputs": []
    },
    {
      "cell_type": "code",
      "source": [
        "model = Model(\"pp2\")\n",
        "\n",
        "x1 = model.addVar(name=\"o\")\n",
        "x2 = model.addVar(name=\"d\")\n",
        "model.update()\n",
        "\n",
        "model.addConstr(45*x1 + 90*x2 - 60*x1 - 60*x2 >= 0)\n",
        "model.addConstr(15*x1 + 6*x2 - 9*x1 - 9*x2 <= 0)\n",
        "model.addConstr(x1 + x2 >= 10000)\n",
        "model.setObjective(1.05*x1 + 1.34*x2, GRB.MINIMIZE)\n",
        "\n",
        "model.optimize()\n",
        "\n",
        "if model.Status == GRB.Status.OPTIMAL:\n",
        "    print(\"Opt. Value=\", model.ObjVal)\n",
        "    for v in model.getVars():\n",
        "        print(v.VarName, v.X)"
      ],
      "metadata": {
        "colab": {
          "base_uri": "https://localhost:8080/"
        },
        "id": "dF304NIGF4-o",
        "outputId": "8fcc3c99-abd8-47cd-d6be-bd7806e68e4c"
      },
      "execution_count": 3,
      "outputs": [
        {
          "output_type": "stream",
          "name": "stdout",
          "text": [
            "Restricted license - for non-production use only - expires 2024-10-28\n",
            "Gurobi Optimizer version 10.0.2 build v10.0.2rc0 (linux64)\n",
            "\n",
            "CPU model: Intel(R) Xeon(R) CPU @ 2.20GHz, instruction set [SSE2|AVX|AVX2]\n",
            "Thread count: 1 physical cores, 2 logical processors, using up to 2 threads\n",
            "\n",
            "Optimize a model with 3 rows, 2 columns and 6 nonzeros\n",
            "Model fingerprint: 0x4b345fd9\n",
            "Coefficient statistics:\n",
            "  Matrix range     [1e+00, 3e+01]\n",
            "  Objective range  [1e+00, 1e+00]\n",
            "  Bounds range     [0e+00, 0e+00]\n",
            "  RHS range        [1e+04, 1e+04]\n",
            "Presolve time: 0.01s\n",
            "Presolved: 3 rows, 2 columns, 6 nonzeros\n",
            "\n",
            "Iteration    Objective       Primal Inf.    Dual Inf.      Time\n",
            "       0    0.0000000e+00   4.000000e+04   0.000000e+00      0s\n",
            "       2    1.2433333e+04   0.000000e+00   0.000000e+00      0s\n",
            "\n",
            "Solved in 2 iterations and 0.02 seconds (0.00 work units)\n",
            "Optimal objective  1.243333333e+04\n",
            "Opt. Value= 12433.333333333334\n",
            "o 3333.3333333333335\n",
            "d 6666.666666666667\n"
          ]
        }
      ]
    }
  ]
}